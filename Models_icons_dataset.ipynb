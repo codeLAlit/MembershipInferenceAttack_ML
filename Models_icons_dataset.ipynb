{
 "cells": [
  {
   "cell_type": "markdown",
   "metadata": {},
   "source": "# Dataset : Icons-50"
  },
  {
   "cell_type": "code",
   "execution_count": 5,
   "metadata": {},
   "outputs": [],
   "source": "import numpy as np\nimport pandas as pd\nimport matplotlib.pyplot as plt\nfrom sklearn.model_selection import train_test_split\nfrom sklearn.linear_model import LogisticRegression\nfrom sklearn.metrics import accuracy_score, precision_score, recall_score\n%matplotlib inline"
  },
  {
   "cell_type": "code",
   "execution_count": null,
   "metadata": {
    "scrolled": true
   },
   "outputs": [],
   "source": "! pip install zipfile36"
  },
  {
   "cell_type": "code",
   "execution_count": 3,
   "metadata": {},
   "outputs": [],
   "source": "import sys\nif sys.version_info >= (3, 6):\n    import zipfile\nelse:\n    import zipfile36 as zipfile\nwith zipfile.ZipFile(\"35130_47677_compressed_Icons-50.npy.zip\",\"r\") as zip_ref:\n    zip_ref.extractall(\"./\")"
  },
  {
   "cell_type": "code",
   "execution_count": 6,
   "metadata": {},
   "outputs": [],
   "source": "icons = np.load('Icons-50.npy',allow_pickle=True).item()"
  },
  {
   "cell_type": "code",
   "execution_count": 4,
   "metadata": {},
   "outputs": [],
   "source": "data = icons['image']\ny = np.array(icons['class'])\nX = np.rollaxis(data,1,4)\nX= X/255"
  },
  {
   "cell_type": "code",
   "execution_count": 5,
   "metadata": {},
   "outputs": [
    {
     "data": {
      "image/png": "[encoded data removed]",
      "text/plain": "<Figure size 720x720 with 5 Axes>"
     },
     "metadata": {},
     "output_type": "display_data"
    }
   ],
   "source": "plt.figure(figsize=(10,10))\nfor i in range(5):\n    plt.subplot(1,5,i+1)\n    plt.xticks([])\n    plt.yticks([])\n    plt.grid(False)\n    plt.imshow(X[i],)\n    plt.xlabel(y[i])\nplt.show()"
  },
  {
   "cell_type": "code",
   "execution_count": 6,
   "metadata": {},
   "outputs": [],
   "source": "X = X.reshape(X.shape[0],3072)"
  },
  {
   "cell_type": "markdown",
   "metadata": {},
   "source": "# Shadow Model\n## Softmax"
  },
  {
   "cell_type": "code",
   "execution_count": 7,
   "metadata": {},
   "outputs": [],
   "source": "shadow_X, target_X, shadow_y, target_y = train_test_split(X, y, test_size=0.5, random_state=42)\nX_train, X_test, y_train, y_test = train_test_split(shadow_X, shadow_y, test_size=0.5, random_state=42)"
  },
  {
   "cell_type": "code",
   "execution_count": 8,
   "metadata": {},
   "outputs": [
    {
     "name": "stderr",
     "output_type": "stream",
     "text": "/media/lalit/Lalit/Environments/dl-env/lib/python3.6/site-packages/sklearn/linear_model/_logistic.py:940: ConvergenceWarning: lbfgs failed to converge (status=1):\nSTOP: TOTAL NO. of ITERATIONS REACHED LIMIT.\n\nIncrease the number of iterations (max_iter) or scale the data as shown in:\n    https://scikit-learn.org/stable/modules/preprocessing.html\nPlease also refer to the documentation for alternative solver options:\n    https://scikit-learn.org/stable/modules/linear_model.html#logistic-regression\n  extra_warning_msg=_LOGISTIC_SOLVER_CONVERGENCE_MSG)\n"
    }
   ],
   "source": "softRegr=LogisticRegression(multi_class='multinomial', solver='lbfgs', max_iter=3000, penalty='l2')\nsoftRegr.fit(X_train, y_train.ravel())\ny_pred=softRegr.predict(X_test)"
  },
  {
   "cell_type": "code",
   "execution_count": 9,
   "metadata": {},
   "outputs": [
    {
     "name": "stdout",
     "output_type": "stream",
     "text": "Trainig Accuracy : 0.9996, Testing Accuracy : 0.6716\n"
    }
   ],
   "source": "y_tr = softRegr.predict(X_train)\ntrain_acc = np.mean(y_train == y_tr)\ntest_acc=np.mean(y_test == y_pred)\n\nprint(\"Trainig Accuracy : {}, Testing Accuracy : {}\".format(train_acc, test_acc))"
  },
  {
   "cell_type": "code",
   "execution_count": 10,
   "metadata": {},
   "outputs": [],
   "source": "y_out=softRegr.predict_proba(X_test)\ny_in=softRegr.predict_proba(X_train)"
  },
  {
   "cell_type": "code",
   "execution_count": 11,
   "metadata": {},
   "outputs": [],
   "source": "y_in_sorted=np.sort(y_in)\ny_in_top3=y_in_sorted[:, 47:]\ny_out_sorted=np.sort(y_out)\ny_out_top3=y_out_sorted[:, 47:]"
  },
  {
   "cell_type": "code",
   "execution_count": 12,
   "metadata": {},
   "outputs": [],
   "source": "din=np.hstack((y_in_top3, np.ones((y_in_top3.shape[0],1))))\ndout=np.hstack((y_out_top3, np.zeros((y_out_top3.shape[0],1))))\ndt=np.vstack((din,dout))\ndf=pd.DataFrame(dt)\ndf.to_csv(\"sh_softmax.csv\", index=False, header=True)"
  },
  {
   "cell_type": "markdown",
   "metadata": {},
   "source": "# Target Model\n## Random Forest"
  },
  {
   "cell_type": "code",
   "execution_count": 12,
   "metadata": {},
   "outputs": [],
   "source": "Xtrain, Xtest, ytrain, ytest = train_test_split(target_X, target_y, test_size=0.5, random_state=42)"
  },
  {
   "cell_type": "code",
   "execution_count": 13,
   "metadata": {},
   "outputs": [
    {
     "data": {
      "text/plain": "ExtraTreesClassifier(bootstrap=False, ccp_alpha=0.0, class_weight=None,\n                     criterion='gini', max_depth=None, max_features=50,\n                     max_leaf_nodes=None, max_samples=None,\n                     min_impurity_decrease=0.0, min_impurity_split=None,\n                     min_samples_leaf=1, min_samples_split=2,\n                     min_weight_fraction_leaf=0.0, n_estimators=100,\n                     n_jobs=None, oob_score=False, random_state=None, verbose=0,\n                     warm_start=False)"
     },
     "execution_count": 13,
     "metadata": {},
     "output_type": "execute_result"
    }
   ],
   "source": "from sklearn.ensemble import ExtraTreesClassifier\nmod = ExtraTreesClassifier(n_estimators=100, max_features=50)\nmod.fit(Xtrain,ytrain)"
  },
  {
   "cell_type": "code",
   "execution_count": 14,
   "metadata": {},
   "outputs": [
    {
     "name": "stdout",
     "output_type": "stream",
     "text": "Trainig Accuracy : 1.0, Testing Accuracy : 0.7476\n"
    }
   ],
   "source": "y_tr = mod.predict(Xtrain)\ny_te = mod.predict(Xtest)\n\ntrain_acc=accuracy_score(ytrain, y_tr)\ntest_acc=accuracy_score(ytest, y_te)\n\nprint(\"Trainig Accuracy : {}, Testing Accuracy : {}\".format(train_acc, test_acc))"
  },
  {
   "cell_type": "code",
   "execution_count": 15,
   "metadata": {},
   "outputs": [],
   "source": "y_in=mod.predict_proba(Xtrain)\ny_out=mod.predict_proba(Xtest)"
  },
  {
   "cell_type": "code",
   "execution_count": 16,
   "metadata": {},
   "outputs": [],
   "source": "y_in_sorted=np.sort(y_in)\ny_in_top3=y_in_sorted[:, 47:]\ny_out_sorted=np.sort(y_out)\ny_out_top3=y_out_sorted[:, 47:]"
  },
  {
   "cell_type": "code",
   "execution_count": 21,
   "metadata": {},
   "outputs": [],
   "source": "din=np.hstack((y_in_top3, np.ones((y_in_top3.shape[0],1))))\ndout=np.hstack((y_out_top3, np.zeros((y_out_top3.shape[0],1))))\ndt=np.vstack((din,dout))\ndf=pd.DataFrame(dt)\ndf.to_csv(\"sh_forest.csv\", index=False, header=True)"
  }
 ],
 "metadata": {
  "kernelspec": {
   "display_name": "dl-env",
   "language": "python",
   "name": "dl-env"
  },
  "language_info": {
   "codemirror_mode": {
    "name": "ipython",
    "version": 3
   },
   "file_extension": ".py",
   "mimetype": "text/x-python",
   "name": "python",
   "nbconvert_exporter": "python",
   "pygments_lexer": "ipython3",
   "version": "3.6.9"
  },
  "toc": {
   "nav_menu": {},
   "number_sections": true,
   "sideBar": true,
   "skip_h1_title": false,
   "title_cell": "Table of Contents",
   "title_sidebar": "Contents",
   "toc_cell": false,
   "toc_position": {},
   "toc_section_display": true,
   "toc_window_display": false
  }
 },
 "nbformat": 4,
 "nbformat_minor": 2
}
